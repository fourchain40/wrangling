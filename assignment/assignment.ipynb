{
  "cells": [
    {
      "cell_type": "markdown",
      "id": "13ad028b-72b7-43ed-aa78-96fd4e518040",
      "metadata": {
        "id": "13ad028b-72b7-43ed-aa78-96fd4e518040"
      },
      "source": [
        "# Assignment: Data Wrangling\n",
        "## `! git clone https://github.com/DS3001/wrangling`\n",
        "## Do Q2, and one of Q1 or Q3."
      ]
    },
    {
      "cell_type": "markdown",
      "id": "5735a4d4-8be8-433a-a351-70eb8002e632",
      "metadata": {
        "id": "5735a4d4-8be8-433a-a351-70eb8002e632"
      },
      "source": [
        "**Q1.** Open the \"tidy_data.pdf\" document in the repo, which is a paper called Tidy Data by Hadley Wickham.\n",
        "\n",
        "  1. Read the abstract. What is this paper about?\n",
        "\n",
        "  **This paper focuses on a crucial aspect of data preparation known as data tidying, which is an essential step before data analysis. The main argument is that a significant amount of work goes into cleaning data to make it analysis-ready, yet there has been limited research on optimizing this process for efficiency and effectiveness. Data tidying is highlighted as a fundamental component of data cleaning, characterized by organizing datasets into a format where each variable is represented by a column, each observation by a row, and each type of observational unit forms a separate table. This structured approach simplifies the data cleaning process by reducing the variety of transformations needed to tidy up diverse, messy datasets.**\n",
        "\n",
        "  2. Read the introduction. What is the \"tidy data standard\" intended to accomplish?\n",
        "\n",
        "  **The \"tidy data standard\" is intended to streamline the data cleaning and preparation process, which is a crucial and time-consuming part of data analysis. It aims to establish a standard way of organizing data values within a dataset to make initial data cleaning more straightforward, eliminating the need to reinvent the process for each new dataset.**\n",
        "\n",
        "  3. Read the intro to section 2. What does this sentence mean: \"Like families, tidy datasets are all alike but every messy dataset is messy in its own way.\" What does this sentence mean: \"For a given dataset, it’s usually easy to figure out what are observations and what are variables, but it is surprisingly difficult to precisely define variables and observations in general.\"\n",
        "\n",
        "  **The first sentence means that the irregularities and complexities that make a dataset \"messy\" vary widely from one dataset to another, reflecting the diverse challenges encountered in data cleaning and organization. The second sentence highlights how it may be straightforward to identify observations (the individual units of analysis) and variables (the characteristics or measurements of these units) within the context of a specific dataset, providing a universal definition that applies to all datasets is challenging. This difficulty arises because the concept of what constitutes a variable or an observation can vary depending on the dataset's context, the nature of the data, and the analytical goals.**\n",
        "\n",
        "\n",
        "  4. Read Section 2.2. How does Wickham define values, variables, and observations?\n",
        "\n",
        "  **Wickham defines values as the actual data points, which can be numbers or strings, and each value belongs to both a variable and an observation. Variables are attributes measured across units, like height or temperature, essentially forming the columns in a dataset. Observations are all values measured on a single unit across various attributes, making up the rows in a dataset.**\n",
        "\n",
        "  5. How is \"Tidy Data\" defined in section 2.3?\n",
        "\n",
        "  **\"Tidy data\" is defined as a dataset where each variable is a column, each observation is a row, and each type of observational unit forms a separate table. This structure simplifies analysis by providing a clear, standardized way to organize data, making it easier to access and manipulate for statistical purposes.**\n",
        "\n",
        "\n",
        "  6. Read the intro to Section 3 and Section 3.1. What are the 5 most common problems with messy datasets? Why are the data in Table 4 messy? What is \"melting\" a dataset?\n",
        "\n",
        "**The five most common problems with messy datasets are:**\n",
        "\n",
        "**1. Column headers are values, not variable names.**\n",
        "\n",
        "**2. Multiple variables are stored in one column.**\n",
        "\n",
        "**3. Variables are stored in both rows and columns.**\n",
        "\n",
        "**4. Multiple types of observational units are stored in the same table.**\n",
        "\n",
        "**5. A single observational unit is stored in multiple tables.**\n",
        "\n",
        "**The data in Table 4 is considered messy because the column headers represent values (income ranges) rather than variable names, which goes against the tidy data principle where each variable should form a column.**\n",
        "\n",
        "**\"Melting\" a dataset involves transforming it from a wide format to a long format. This process turns columns into rows, making the dataset \"tidier\" by ensuring that each variable forms a column, and each observation forms a row.**\n",
        "\n",
        "  7. Why, specifically, is table 11 messy but table 12 tidy and \"molten\"?\n",
        "  8. Read Section 6. What is the \"chicken-and-egg\" problem with focusing on tidy data? What does Wickham hope happens in the future with further work on the subject of data wrangling?"
      ]
    },
    {
      "cell_type": "markdown",
      "id": "da879ea7-8aac-48a3-b6c2-daea56d2e072",
      "metadata": {
        "id": "da879ea7-8aac-48a3-b6c2-daea56d2e072"
      },
      "source": [
        "**Q2.** This question provides some practice cleaning variables which have common problems.\n",
        "1. Numeric variable: For `./data/airbnb_hw.csv`, clean the `Price` variable as well as you can, and explain the choices you make. How many missing values do you end up with? (Hint: What happens to the formatting when a price goes over 999 dollars, say from 675 to 1,112?)\n",
        "2. Categorical variable: For the `./data/sharks.csv` data covered in the lecture, clean the \"Type\" variable as well as you can, and explain the choices you make.\n",
        "3. Dummy variable: For the pretrial data covered in the lecture, clean the `WhetherDefendantWasReleasedPretrial` variable as well as you can, and, in particular, replace missing values with `np.nan`.\n",
        "4. Missing values, not at random: For the pretrial data covered in the lecture, clean the `ImposedSentenceAllChargeInContactEvent` variable as well as you can, and explain the choices you make. (Hint: Look at the `SentenceTypeAllChargesAtConvictionInContactEvent` variable.)"
      ]
    },
    {
      "cell_type": "code",
      "source": [
        "import pandas as pd\n",
        "import numpy as np\n",
        "import seaborn as sns\n",
        "url = 'https://raw.githubusercontent.com/fourchain40/wrangling/main/assignment/data/airbnb_hw.csv'\n",
        "df = pd.read_csv(url, low_memory=False)\n",
        "price = df['Price']\n",
        "price = price.str.replace(',','') #replaces the commas with nothing\n",
        "price = pd.to_numeric(price,errors='coerce') #casts each string as a numeric\n",
        "print( 'Missing values: ', sum( price.isnull() ) ) # end up with 0 missing values\n",
        "df['Price'] = price\n",
        "del price"
      ],
      "metadata": {
        "colab": {
          "base_uri": "https://localhost:8080/"
        },
        "id": "V3pSHIwtHxJh",
        "outputId": "f6876573-9fa1-4074-917f-25d3b7e47c80"
      },
      "id": "V3pSHIwtHxJh",
      "execution_count": null,
      "outputs": [
        {
          "output_type": "stream",
          "name": "stdout",
          "text": [
            "Missing values:  0\n"
          ]
        }
      ]
    },
    {
      "cell_type": "code",
      "source": [
        "url = 'https://raw.githubusercontent.com/fourchain40/wrangling/main/assignment/data/sharks.csv'\n",
        "df = pd.read_csv(url, low_memory=False)\n",
        "types = df['Type']\n",
        "types = types.replace(['Invalid', 'Questionable','Unconfirmed','Unverified','Under investigation'],np.nan) # gets rid of the possibly unreliable data\n",
        "types = types.replace(['Sea Disaster', 'Boat','Boating','Boatomg'],'Watercraft') # move all boating/sea categories under watercraft category\n",
        "print(types.value_counts())\n",
        "df['Type'] = types\n",
        "del types"
      ],
      "metadata": {
        "colab": {
          "base_uri": "https://localhost:8080/"
        },
        "id": "4H9Gcw2Sbm59",
        "outputId": "96a37123-9ca3-425a-bd8b-cc3dec7ce220"
      },
      "id": "4H9Gcw2Sbm59",
      "execution_count": null,
      "outputs": [
        {
          "output_type": "stream",
          "name": "stdout",
          "text": [
            "Unprovoked    4716\n",
            "Provoked       593\n",
            "Watercraft     583\n",
            "Name: Type, dtype: int64\n"
          ]
        }
      ]
    },
    {
      "cell_type": "code",
      "source": [
        "url = 'http://www.vcsc.virginia.gov/pretrialdataproject/October%202017%20Cohort_Virginia%20Pretrial%20Data%20Project_Deidentified%20FINAL%20Update_10272021.csv'\n",
        "df = pd.read_csv(url,low_memory=False)\n",
        "released = df['WhetherDefendantWasReleasedPretrial']\n",
        "released = released.replace(9,np.nan) # 9s are listed as \"unclear\" in the codebook\n",
        "print(released.value_counts())\n",
        "df['WhetherDefendantWasReleasedPretrial'] = released\n",
        "del released"
      ],
      "metadata": {
        "colab": {
          "base_uri": "https://localhost:8080/"
        },
        "id": "aM5tDkUzBThw",
        "outputId": "7b7c673e-f898-4077-9db9-2d620a592bf7"
      },
      "id": "aM5tDkUzBThw",
      "execution_count": null,
      "outputs": [
        {
          "output_type": "stream",
          "name": "stdout",
          "text": [
            "1.0    19154\n",
            "0.0     3801\n",
            "Name: WhetherDefendantWasReleasedPretrial, dtype: int64\n"
          ]
        }
      ]
    },
    {
      "cell_type": "code",
      "source": [
        "sentence = df['ImposedSentenceAllChargeInContactEvent']\n",
        "sentence_type = df['SentenceTypeAllChargesAtConvictionInContactEvent']\n",
        "sentence = pd.to_numeric(sentence,errors='coerce') # cast to numeric\n",
        "sentence = sentence.mask( sentence_type == 4, 0) # Sentence type 4 is no charges, so we replace with 0\n",
        "sentence = sentence.mask( sentence_type == 9, np.nan) #9s are listed as \"unclear\" in the codebook\n",
        "print(sum(sentence.isnull()))\n",
        "df['ImposedSentenceAllChargeInContactEvent'] = sentence\n",
        "del sentence\n",
        "del sentence_type"
      ],
      "metadata": {
        "colab": {
          "base_uri": "https://localhost:8080/"
        },
        "id": "8_cGwmiyEv8W",
        "outputId": "c5fdb218-9e5e-4d3e-de5d-3decce2bcda2"
      },
      "id": "8_cGwmiyEv8W",
      "execution_count": null,
      "outputs": [
        {
          "output_type": "stream",
          "name": "stdout",
          "text": [
            "274\n"
          ]
        }
      ]
    },
    {
      "cell_type": "markdown",
      "id": "649494cd-cfd6-4f80-992a-9994fc19e1d5",
      "metadata": {
        "id": "649494cd-cfd6-4f80-992a-9994fc19e1d5"
      },
      "source": [
        "**Q3.** Many important datasets contain a race variable, typically limited to a handful of values often including Black, White, Asian, Latino, and Indigenous. This question looks at data gathering efforts on this variable by the U.S. Federal government.\n",
        "\n",
        "1. How did the most recent US Census gather data on race?\n",
        "2. Why do we gather these data? What role do these kinds of data play in politics and society? Why does data quality matter?\n",
        "3. Please provide a constructive criticism of how the Census was conducted: What was done well? What do you think was missing? How should future large scale surveys be adjusted to best reflect the diversity of the population? Could some of the Census' good practices be adopted more widely to gather richer and more useful data?\n",
        "4. How did the Census gather data on sex and gender? Please provide a similar constructive criticism of their practices.\n",
        "5. When it comes to cleaning data, what concerns do you have about protected characteristics like sex, gender, sexual identity, or race? What challenges can you imagine arising when there are missing values? What good or bad practices might people adopt, and why?\n",
        "6. Suppose someone invented an algorithm to impute values for protected characteristics like race, gender, sex, or sexuality. What kinds of concerns would you have?"
      ]
    }
  ],
  "metadata": {
    "colab": {
      "provenance": []
    },
    "kernelspec": {
      "display_name": "Python 3 (ipykernel)",
      "language": "python",
      "name": "python3"
    },
    "language_info": {
      "codemirror_mode": {
        "name": "ipython",
        "version": 3
      },
      "file_extension": ".py",
      "mimetype": "text/x-python",
      "name": "python",
      "nbconvert_exporter": "python",
      "pygments_lexer": "ipython3",
      "version": "3.10.4"
    }
  },
  "nbformat": 4,
  "nbformat_minor": 5
}